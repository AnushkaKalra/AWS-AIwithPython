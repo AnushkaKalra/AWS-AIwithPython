{
  "cells": [
    {
      "cell_type": "markdown",
      "metadata": {
        "id": "view-in-github",
        "colab_type": "text"
      },
      "source": [
        "<a href=\"https://colab.research.google.com/github/AnushkaKalra/AWS-AIwithPython/blob/main/Session03_AIPND_Python_ControlFlow_Functions.ipynb\" target=\"_parent\"><img src=\"https://colab.research.google.com/assets/colab-badge.svg\" alt=\"Open In Colab\"/></a>"
      ]
    },
    {
      "cell_type": "markdown",
      "metadata": {
        "id": "W6xviQqZtj31"
      },
      "source": [
        "## **Session 3**\n",
        "**4, 5 and 7 November 2023**\n",
        "# Introduction to Python\n",
        "\n",
        "Today, we shall walk through:\n",
        "\n",
        "1. Control flow (if-else and loops) that helps us make decisions and iterate in our code, and functions that bring organization and reusability to our code.\n",
        "2. Project 1, as the deadline is just around the corner.\n",
        "\n",
        "Let's get into it!"
      ]
    },
    {
      "cell_type": "markdown",
      "metadata": {
        "id": "FQ6uKaE1tj33"
      },
      "source": [
        "### **Introduction to Control Flow**\n",
        "\n",
        "Today, we'll dive into the world of control flow in Python. Control flow is a fundamental concept in programming, allowing us to make decisions and control the execution of our code. Let's get started!\n",
        "\n",
        "**I. What is Control Flow?**\n",
        "\n",
        "Control flow refers to the order in which statements and instructions are executed in a program. It allows us to determine the path our program takes based on certain conditions and loops."
      ]
    },
    {
      "cell_type": "markdown",
      "metadata": {
        "id": "cA0ky5Cqtj33"
      },
      "source": [
        "**Reflection MCQ 1 (Multiple Choice Question):**\n",
        "\n",
        "What is the primary purpose of control flow in programming?\n",
        "\n",
        "a) Executing all statements sequentially\n",
        "\n",
        "b) Skipping certain statements\n",
        "\n",
        "c) Determining the order of statement execution based on conditions\n",
        "\n",
        "d) Controlling the flow of electricity in the computer\n",
        "\n",
        "<details>\n",
        "<summary>Click to reveal the answer</summary>\n",
        "*Correct Answer: c) Determining the order of statement execution based on conditions*"
      ]
    },
    {
      "cell_type": "markdown",
      "metadata": {
        "id": "X6cj6ON_tj34"
      },
      "source": [
        "**II. Importance of Control Flow**\n",
        "\n",
        "Control flow is essential in programming for the following reasons:\n",
        "\n",
        "- **Decision-Making**: It allows us to make choices and execute specific code blocks based on conditions. For example, you might want to execute one set of instructions if a condition is true and another set if it's false."
      ]
    },
    {
      "cell_type": "markdown",
      "metadata": {
        "id": "HyJvzCN3tj34"
      },
      "source": [
        "**Reflection MCQ 2:**\n",
        "\n",
        "Why is control flow important in programming?\n",
        "\n",
        "a) It helps avoid writing code.\n",
        "\n",
        "b) It allows for random execution of code.\n",
        "\n",
        "c) It enables decision-making and executing code based on conditions.\n",
        "\n",
        "d) It's only used in specific programming languages.\n",
        "\n",
        "<details>\n",
        "<summary>Click to reveal the answer</summary>\n",
        "*Correct Answer: c) It enables decision-making and executing code based on conditions.*"
      ]
    },
    {
      "cell_type": "markdown",
      "metadata": {
        "id": "ml_eKL0jtj34"
      },
      "source": [
        "**III. Overview of Decision-Making and Looping Structures**\n",
        "\n",
        "In Python, we have several control flow structures. The two primary ones we'll cover are:\n",
        "\n",
        "- **Conditional Statements**: These allow us to execute specific blocks of code based on whether a condition is true or false. We'll see how to use `if` statements, `if-else` statements, and `if-elif-else` statements.\n",
        "\n",
        "- **Loops**: Loops are used for repeating tasks. We'll explore two main types: `for` loops and `while` loops. These help us automate tasks by executing a block of code multiple times."
      ]
    },
    {
      "cell_type": "markdown",
      "metadata": {
        "id": "EgfthE_jtj35"
      },
      "source": [
        "With this introduction to control flow, you now have an idea of what we'll be exploring in this session. In the next segment, we'll start with conditional statements, specifically, `if` statements, and learn how they can be used for decision-making in Python."
      ]
    },
    {
      "cell_type": "markdown",
      "metadata": {
        "id": "qTzbiGcHtj35"
      },
      "source": [
        "### **Conditional Statements: If Statements**\n",
        "\n",
        "In this segment, we'll delve into conditional statements, specifically focusing on `if` statements. These statements allow us to make decisions in our Python programs. Let's explore how they work.\n",
        "\n",
        "**I. The `if` Statement**\n",
        "\n",
        "The `if` statement is one of the simplest forms of a conditional statement. It allows us to execute a block of code if a specified condition is true. Here's the basic syntax:\n",
        "\n",
        "```python\n",
        "if condition:\n",
        "    # Code to execute if the condition is true\n",
        "```\n",
        "\n",
        "- The `if` keyword is followed by a condition.\n",
        "- If the condition evaluates to `True`, the indented code block beneath it is executed."
      ]
    },
    {
      "cell_type": "markdown",
      "metadata": {
        "id": "cNgNMetStj35"
      },
      "source": [
        "**Reflection MCQ 1:**\n",
        "\n",
        "What is the primary purpose of an `if` statement in Python?\n",
        "\n",
        "a) To execute a block of code unconditionally\n",
        "\n",
        "b) To execute a block of code if a specified condition is true\n",
        "\n",
        "c) To execute a block of code if a specified condition is false\n",
        "\n",
        "d) To execute a block of code repeatedly\n",
        "\n",
        "<details>\n",
        "<summary>Click to reveal the answer</summary>\n",
        "*Correct Answer: b) To execute a block of code if a specified condition is true*"
      ]
    },
    {
      "cell_type": "markdown",
      "metadata": {
        "id": "ri2zpOdltj35"
      },
      "source": [
        "**II. Simple `if` Statements**\n",
        "\n",
        "Let's start with a simple example. We'll check if a number is positive and print a message if it is.\n",
        "\n",
        "```python\n",
        "num = 10\n",
        "\n",
        "if num > 0:\n",
        "    print(\"The number is positive.\")\n",
        "```\n",
        "\n",
        "- In this case, the condition `num > 0` is evaluated. Since it's true (10 is greater than 0), the message \"The number is positive\" will be displayed.\n",
        "\n"
      ]
    },
    {
      "cell_type": "code",
      "execution_count": null,
      "metadata": {
        "id": "5H-HWL_1tj36",
        "outputId": "6cf61c28-ed6a-4998-9267-30f985006766"
      },
      "outputs": [
        {
          "name": "stdout",
          "output_type": "stream",
          "text": [
            "The number is positive.\n"
          ]
        }
      ],
      "source": [
        "num = 10\n",
        "\n",
        "if num > 0:\n",
        "    print(\"The number is positive.\")"
      ]
    },
    {
      "cell_type": "markdown",
      "metadata": {
        "id": "tel4vvLetj37"
      },
      "source": [
        "**III. Using `if-else` Statements**\n",
        "\n",
        "In many cases, we want to execute one block of code if a condition is true and another block if it's false. This is where `if-else` statements come into play.\n",
        "\n",
        "```python\n",
        "num = -5\n",
        "\n",
        "if num > 0:\n",
        "    print(\"The number is positive.\")\n",
        "else:\n",
        "    print(\"The number is not positive.\")\n",
        "```\n",
        "\n",
        "- If the condition `num > 0` is true, the first block is executed. Otherwise, the second block is executed."
      ]
    },
    {
      "cell_type": "code",
      "execution_count": null,
      "metadata": {
        "id": "_70twhELtj37",
        "outputId": "eeffb2c2-cc85-49be-c1de-a8a821fad18e"
      },
      "outputs": [
        {
          "name": "stdout",
          "output_type": "stream",
          "text": [
            "The number is not positive.\n"
          ]
        }
      ],
      "source": [
        "num = -5\n",
        "\n",
        "if num > 0:\n",
        "    print(\"The number is positive.\")\n",
        "else:\n",
        "    print(\"The number is not positive.\")"
      ]
    },
    {
      "cell_type": "markdown",
      "metadata": {
        "id": "u5zSjpsKtj37"
      },
      "source": [
        "**Reflection MCQ 2:**\n",
        "\n",
        "When might you use an `if-else` statement in Python?\n",
        "\n",
        "a) To execute only one block of code unconditionally\n",
        "\n",
        "b) To execute one block of code if a condition is true and another if it's false\n",
        "\n",
        "c) To execute multiple blocks of code sequentially\n",
        "\n",
        "d) To repeat a block of code multiple times\n",
        "\n",
        "<details>\n",
        "<summary>Click to reveal the answer</summary>\n",
        "*Correct Answer: b) To execute one block of code if a condition is true and another if it's false*"
      ]
    },
    {
      "cell_type": "markdown",
      "metadata": {
        "id": "0ywc0Ytdtj37"
      },
      "source": [
        "**IV. Using `if-elif-else` Statements**\n",
        "\n",
        "In more complex scenarios, you might have multiple conditions to check. This is where `if-elif-else` statements become useful.\n",
        "\n",
        "```python\n",
        "num = 0\n",
        "\n",
        "if num > 0:\n",
        "    print(\"The number is positive.\")\n",
        "elif num < 0:\n",
        "    print(\"The number is negative.\")\n",
        "else:\n",
        "    print(\"The number is zero.\")\n",
        "```\n",
        "\n",
        "- In this example, we check three conditions sequentially. The first condition that evaluates to `True` triggers the corresponding block of code."
      ]
    },
    {
      "cell_type": "code",
      "execution_count": null,
      "metadata": {
        "id": "2EzzHnT9tj37",
        "outputId": "a2e0ff71-1f66-4114-fda0-eb3060f08fa1"
      },
      "outputs": [
        {
          "name": "stdout",
          "output_type": "stream",
          "text": [
            "The number is zero.\n"
          ]
        }
      ],
      "source": [
        "num = 0\n",
        "\n",
        "if num > 0:\n",
        "    print(\"The number is positive.\")\n",
        "elif num < 0:\n",
        "    print(\"The number is negative.\")\n",
        "else:\n",
        "    print(\"The number is zero.\")"
      ]
    },
    {
      "cell_type": "markdown",
      "metadata": {
        "id": "sedeyDtHtj38"
      },
      "source": [
        "**Reflection MCQ 3:**\n",
        "\n",
        "When might you use an `if-elif-else` statement in Python?\n",
        "\n",
        "a) To execute only one block of code unconditionally\n",
        "\n",
        "b) To execute one block of code if a condition is true and another if it's false\n",
        "\n",
        "c) To execute multiple blocks of code sequentially\n",
        "\n",
        "d) To handle multiple conditions and execute the block corresponding to the first true condition\n",
        "\n",
        "<details>\n",
        "<summary>Click to reveal the answer</summary>\n",
        "*Correct Answer: d) To handle multiple conditions and execute the block corresponding to the first true condition*"
      ]
    },
    {
      "cell_type": "markdown",
      "metadata": {
        "id": "EkzhoY6Otj38"
      },
      "source": [
        "With `if` statements, you have the power to make decisions in your code. In our next session, we'll explore more complex conditions and introduce practical examples of using `if` statements."
      ]
    },
    {
      "cell_type": "markdown",
      "metadata": {
        "id": "7UelNtd2tj38"
      },
      "source": [
        "### **Lab Exercise 1**\n",
        "\n",
        "In this exercise, we will apply what we've learned about `if` statements by working on practical problems. Let's get started!\n",
        "\n",
        "**Exercise 1-1: Positive or Negative?**\n",
        "\n",
        "Your first task is to create a Python script that determines if a number is positive, negative, or zero. Here's what you need to do:\n",
        "\n",
        "1. Prompt the user to enter a numerical value.\n",
        "2. Use an `if` statement to check if the number is positive.\n",
        "3. If it's positive, display a message saying \"The number is positive.\"\n",
        "4. If it's not positive, use an `if-else` statement to check if it's negative.\n",
        "5. If it's negative, display a message saying \"The number is negative.\"\n",
        "6. If it's neither positive nor negative (i.e., zero), display a message saying \"The number is zero.\"\n",
        "\n",
        "**Reflection MCQ 1:**\n",
        "\n",
        "What is the primary purpose of the `if` statement in this exercise?\n",
        "\n",
        "a) To check if the number is negative\n",
        "\n",
        "b) To display a message saying \"The number is zero\"\n",
        "\n",
        "c) To prompt the user to enter a numerical value\n",
        "\n",
        "d) To check if the number is positive\n",
        "\n",
        "<details>\n",
        "<summary>Click to reveal the answer</summary>\n",
        "*Correct Answer: d) To check if the number is positive*"
      ]
    },
    {
      "cell_type": "markdown",
      "metadata": {
        "id": "JtARWFAQtj38"
      },
      "source": [
        "# TODO-1"
      ]
    },
    {
      "cell_type": "code",
      "execution_count": null,
      "metadata": {
        "id": "JKQHlT-Wtj38"
      },
      "outputs": [],
      "source": [
        "# Code your solution to Exrercise 1-1 here"
      ]
    },
    {
      "cell_type": "markdown",
      "metadata": {
        "id": "Tt6CU0PJtj38"
      },
      "source": [
        "<details>\n",
        "<summary>Click to reveal the solution for Exercise 1:</summary>\n",
        "\n",
        "```python\n",
        "# Prompt the user for a numerical value\n",
        "num = float(input(\"Enter a number: \"))\n",
        "\n",
        "# Check if the number is positive, negative, or zero\n",
        "if num > 0:\n",
        "    print(\"The number is positive.\")\n",
        "elif num < 0:\n",
        "    print(\"The number is negative.\")\n",
        "else:\n",
        "    print(\"The number is zero.\")\n",
        "```"
      ]
    },
    {
      "cell_type": "markdown",
      "metadata": {
        "id": "4igVkvKYtj38"
      },
      "source": [
        "**Exercise 1-2: Grade Classification**\n",
        "\n",
        "In this task, you'll create a script that classifies a student's grade based on their score. Here's what you need to do:\n",
        "\n",
        "1. Prompt the user to enter a numerical score (e.g., out of 100).\n",
        "2. Use `if-elif-else` statements to classify the grade into the following categories:\n",
        "   - If the score is 90 or higher, display \"A\" for excellent.\n",
        "   - If the score is between 80 and 89, display \"B\" for very good.\n",
        "   - If the score is between 70 and 79, display \"C\" for good.\n",
        "   - If the score is between 60 and 69, display \"D\" for satisfactory.\n",
        "   - If the score is below 60, display \"F\" for fail.\n",
        "\n",
        "**Reflection MCQ 2:**\n",
        "\n",
        "Which statement type is best suited for classifying a student's grade based on a score range?\n",
        "\n",
        "a) `if` statement\n",
        "\n",
        "b) `if-else` statement\n",
        "\n",
        "c) `if-elif-else` statement\n",
        "\n",
        "d) `for` loop\n",
        "\n",
        "<details>\n",
        "<summary>Click to reveal the answer</summary>\n",
        "*Correct Answer: c) `if-elif-else` statement*"
      ]
    },
    {
      "cell_type": "markdown",
      "metadata": {
        "id": "2nexMmHItj39"
      },
      "source": [
        "# TODO-2"
      ]
    },
    {
      "cell_type": "code",
      "execution_count": null,
      "metadata": {
        "id": "4MWfNZWItj39"
      },
      "outputs": [],
      "source": [
        "# Code your solution to Exrercise 1-2 here"
      ]
    },
    {
      "cell_type": "markdown",
      "metadata": {
        "id": "uh2NJ7Q3tj39"
      },
      "source": [
        "<details>\n",
        "<summary>Click to reveal the solution for Exercise 2:</summary>\n",
        "\n",
        "```python\n",
        "# Prompt the user for a numerical score\n",
        "score = float(input(\"Enter the score (0-100): \"))\n",
        "\n",
        "# Check the grade based on the score\n",
        "if 90 <= score <= 100:\n",
        "    grade = \"A (Excellent)\"\n",
        "elif 80 <= score < 90:\n",
        "    grade = \"B (Very Good)\"\n",
        "elif 70 <= score < 80:\n",
        "    grade = \"C (Good)\"\n",
        "elif 60 <= score < 70:\n",
        "    grade = \"D (Satisfactory)\"\n",
        "else:\n",
        "    grade = \"F (Fail)\"\n",
        "\n",
        "print(\"Grade:\", grade)\n",
        "\n",
        "```"
      ]
    },
    {
      "cell_type": "markdown",
      "metadata": {
        "id": "E5UZYAXetj39"
      },
      "source": [
        "**Exercise 1-3: Identifying the Maximum**\n",
        "\n",
        "In this exercise, you'll write a script to find the maximum of three numbers. Here are the steps:\n",
        "\n",
        "1. Prompt the user to enter three numerical values.\n",
        "2. Use `if-else` statements to compare the numbers and determine which one is the maximum.\n",
        "3. Display a message indicating which number is the maximum.\n",
        "\n",
        "**Reflection MCQ 3:**\n",
        "\n",
        "What type of statement is best suited for comparing three numbers and identifying the maximum?\n",
        "\n",
        "a) `if` statement\n",
        "\n",
        "b) `if-else` statement\n",
        "\n",
        "c) `if-elif-else` statement\n",
        "\n",
        "d) `for` loop\n",
        "\n",
        "<details>\n",
        "<summary>Click to reveal the answer</summary>\n",
        "*Correct Answer: b) `if-else` statement*\n",
        "\n",
        "Now it's your turn! Open your Python development environment, create a new Python script, and work on these exercises. Don't forget to run your script to check the results. These exercises will help reinforce your understanding of `if` statements and decision-making in Python."
      ]
    },
    {
      "cell_type": "markdown",
      "metadata": {
        "id": "KxuNzwjTtj39"
      },
      "source": [
        "# TODO-3"
      ]
    },
    {
      "cell_type": "code",
      "execution_count": null,
      "metadata": {
        "id": "EHIRr5Srtj39",
        "outputId": "6806d7f6-430a-4e2b-d7aa-409847b7808e"
      },
      "outputs": [
        {
          "name": "stdout",
          "output_type": "stream",
          "text": [
            "11\n"
          ]
        }
      ],
      "source": [
        "def max_of_two(num1, num2):\n",
        "    if num1 > num2:\n",
        "        return num1\n",
        "    return num2\n",
        "\n",
        "\n",
        "def max_of_four(num1, num2, num3, num4):\n",
        "    return max_of_two(max_of_two(num1, num2), max_of_two(num3, num4))\n",
        "\n",
        "print(max_of_four(11,9,7,8))\n",
        ""
      ]
    },
    {
      "cell_type": "markdown",
      "metadata": {
        "id": "vaSZ-tgJtj39"
      },
      "source": [
        "<details>\n",
        "<summary>Click to reveal the solution for Exercise 3:</summary>\n",
        "    \n",
        "```python\n",
        "# Prompt the user to enter three numerical values\n",
        "num1 = float(input(\"Enter the first number: \"))\n",
        "num2 = float(input(\"Enter the second number: \"))\n",
        "num3 = float(input(\"Enter the third number: \"))\n",
        "\n",
        "# Initialize a variable to store the maximum\n",
        "maximum = num1\n",
        "\n",
        "# Compare and update maximum\n",
        "if num2 > maximum:\n",
        "    maximum = num2\n",
        "if num3 > maximum:\n",
        "    maximum = num3\n",
        "\n",
        "print(\"The maximum number is:\", maximum)\n",
        "```"
      ]
    },
    {
      "cell_type": "markdown",
      "metadata": {
        "id": "66Jua7f-tj39"
      },
      "source": [
        "### **Loops: Introduction**\n",
        "\n",
        "In this segment, we'll explore the concept of loops in Python. Loops are essential for automating repetitive tasks, and they play a crucial role in many programs. Let's start with an introduction to loops.\n",
        "\n",
        "**I. The Role of Loops**\n",
        "\n",
        "Loops in programming are used to execute a block of code multiple times. They allow us to automate tasks and perform actions on a collection of items, like a list of values or characters in a string."
      ]
    },
    {
      "cell_type": "markdown",
      "metadata": {
        "id": "XB3OqULftj3-"
      },
      "source": [
        "**II. Types of Loops in Python**\n",
        "\n",
        "Python provides two main types of loops:\n",
        "\n",
        "1. **`for` Loops**: These loops are used when you know the number of times you want to repeat a block of code. They are often used to iterate through sequences like lists, strings, or range of numbers.\n",
        "\n",
        "**Reflection MCQ 1:**\n",
        "\n",
        "When would you typically use a `for` loop in Python?\n",
        "\n",
        "a) When you want to repeat a block of code indefinitely\n",
        "\n",
        "b) When you know the number of times you want to repeat a block of code\n",
        "\n",
        "c) When you want to make decisions in code\n",
        "\n",
        "d) When you want to display messages to the user\n",
        "\n",
        "<details>\n",
        "<summary>Click to reveal the answer</summary>\n",
        "*Correct Answer: b) When you know the number of times you want to repeat a block of code*"
      ]
    },
    {
      "cell_type": "markdown",
      "metadata": {
        "id": "oQHqsydZtj3-"
      },
      "source": [
        "2. **`while` Loops**: `while` loops are used when you want to repeat a block of code as long as a certain condition is met. They are often used for indefinite repetition.\n",
        "\n",
        "**Reflection MCQ 2:**\n",
        "\n",
        "In which situation is a `while` loop the most suitable choice in Python?\n",
        "\n",
        "a) When you want to repeat a block of code a specific number of times\n",
        "\n",
        "b) When you want to make decisions in code\n",
        "\n",
        "c) When you want to display messages to the user\n",
        "\n",
        "d) When you want to repeat a block of code as long as a condition is true\n",
        "\n",
        "<details>\n",
        "<summary>Click to reveal the answer</summary>\n",
        "*Correct Answer: d) When you want to repeat a block of code as long as a condition is true*"
      ]
    },
    {
      "cell_type": "markdown",
      "metadata": {
        "id": "sFnfKJpRtj3-"
      },
      "source": [
        "### **For Loops**\n",
        "\n",
        "In this segment, we'll dive deeper into the world of `for` loops in Python. `for` loops are incredibly useful for iterating through sequences, performing actions on each element, and automating repetitive tasks.\n",
        "\n",
        "**I. The `for` Loop in Python**\n",
        "\n",
        "The `for` loop is a control flow statement in Python used for iterating over sequences, such as lists, strings, or the result of a `range()` function. It allows us to execute a block of code for each item in the sequence.\n",
        "\n",
        "**Reflection MCQ 1:**\n",
        "\n",
        "What is the primary purpose of a `for` loop in Python?\n",
        "\n",
        "a) To make decisions in code\n",
        "\n",
        "b) To display messages to the user\n",
        "\n",
        "c) To iterate through a sequence and execute a block of code for each item\n",
        "\n",
        "d) To execute a block of code only once\n",
        "\n",
        "<details>\n",
        "<summary>Click to reveal the answer</summary>\n",
        "*Correct Answer: c) To iterate through a sequence and execute a block of code for each item*"
      ]
    },
    {
      "cell_type": "markdown",
      "metadata": {
        "id": "aU5sug-etj3-"
      },
      "source": [
        "**II. Basic Syntax of a `for` Loop**\n",
        "\n",
        "The basic syntax of a `for` loop consists of the following components:\n",
        "\n",
        "```python\n",
        "for item in sequence:\n",
        "    # Code to execute for each item\n",
        "```\n",
        "\n",
        "- `item` is a variable that takes on the value of each element in the `sequence`.\n",
        "- The code block beneath the `for` loop is executed for each item in the sequence.\n",
        "\n",
        "**III. Iterating Through Lists**\n",
        "\n",
        "One of the most common use cases of `for` loops is iterating through lists. Let's see an example:\n",
        "\n",
        "```python\n",
        "fruits = [\"apple\", \"banana\", \"cherry\"]\n",
        "\n",
        "for fruit in fruits:\n",
        "    print(fruit)\n",
        "```\n",
        "\n",
        "In this example, the `for` loop iterates through the list `fruits`, and for each item (each fruit), it prints the fruit's name."
      ]
    },
    {
      "cell_type": "code",
      "execution_count": null,
      "metadata": {
        "id": "Tx0lyLhEtj3-",
        "outputId": "7ca8d059-8ad7-4f9f-9408-fad430a4ebc9"
      },
      "outputs": [
        {
          "name": "stdout",
          "output_type": "stream",
          "text": [
            "apple\n",
            "banana\n",
            "cherry\n"
          ]
        }
      ],
      "source": [
        "fruits = [\"apple\", \"banana\", \"cherry\"]\n",
        "\n",
        "for fruit in fruits:\n",
        "    print(fruit)"
      ]
    },
    {
      "cell_type": "markdown",
      "metadata": {
        "id": "vBN6liS3tj3-"
      },
      "source": [
        "**IV. Using `range()` for Controlled Iteration**\n",
        "\n",
        "The `range()` function generates a sequence of numbers, and it's often used with `for` loops for controlled iteration. For example:\n",
        "\n",
        "```python\n",
        "for number in range(1, 6):\n",
        "    print(number)\n",
        "```\n",
        "\n",
        "This code will print numbers from 1 to 5, inclusive."
      ]
    },
    {
      "cell_type": "code",
      "execution_count": null,
      "metadata": {
        "id": "dAp1D_Fvtj3-",
        "outputId": "63feea1c-13c6-46c4-95b7-946be2aaf7b9"
      },
      "outputs": [
        {
          "name": "stdout",
          "output_type": "stream",
          "text": [
            "2\n",
            "4\n"
          ]
        }
      ],
      "source": [
        "# for number is range([start,] stop[, step])\n",
        "for number in range(2, 6, 2):\n",
        "    print(number)"
      ]
    },
    {
      "cell_type": "markdown",
      "metadata": {
        "id": "_y817S6Ftj3-"
      },
      "source": [
        "**Reflection MCQ 2:**\n",
        "\n",
        "What is the role of the `range()` function in the example provided?\n",
        "\n",
        "a) It generates a random sequence of numbers\n",
        "\n",
        "b) It prints numbers from 1 to 5\n",
        "\n",
        "c) It calculates the sum of numbers from 1 to 5\n",
        "\n",
        "d) It checks if a number is equal to 5\n",
        "\n",
        "<details>\n",
        "<summary>Click to reveal the answer</summary>\n",
        "*Correct Answer: b) It prints numbers from 1 to 5*"
      ]
    },
    {
      "cell_type": "markdown",
      "metadata": {
        "id": "D6d-eAZ-tj4C"
      },
      "source": [
        "### **Lab Exercise 2**\n",
        "\n",
        "In this exercise, we'll put our knowledge of `for` loops into practice by working on practical problems. Let's dive in!\n",
        "\n",
        "**Exercise 2-1: Iterating Through a List**\n",
        "\n",
        "Your first task is to create a Python script that iterates through a list of numbers and calculates the sum of all the even numbers. Here's what you need to do:\n",
        "\n",
        "1. Create a list of numbers, which can be any numerical values.\n",
        "2. Use a `for` loop to iterate through the list.\n",
        "3. Within the loop, check if the number is even (i.e., divisible by 2).\n",
        "4. If it's even, add it to a running sum.\n",
        "5. After the loop finishes, print the total sum of the even numbers."
      ]
    },
    {
      "cell_type": "markdown",
      "metadata": {
        "id": "nm88MREBtj4C"
      },
      "source": [
        "# TODO-4"
      ]
    },
    {
      "cell_type": "code",
      "execution_count": null,
      "metadata": {
        "id": "ykn6v5Z6tj4C"
      },
      "outputs": [],
      "source": [
        "# Code your solution to Exrercise 2-1 here\n",
        ""
      ]
    },
    {
      "cell_type": "markdown",
      "metadata": {
        "id": "Ugs7Zcortj4C"
      },
      "source": [
        "<details>\n",
        "<summary>Click to reveal the solution for Exercise 2-1:</summary>\n",
        "    \n",
        "```python\n",
        "# Create a list of numbers\n",
        "numbers = [1, 2, 3, 4, 5, 6, 7, 8, 9, 10]\n",
        "\n",
        "# Initialize a variable to store the sum of even numbers\n",
        "even_sum = 0\n",
        "\n",
        "# Iterate through the list and calculate the sum of even numbers\n",
        "for num in numbers:\n",
        "    if num % 2 == 0:\n",
        "        even_sum += num\n",
        "\n",
        "print(\"The sum of even numbers is:\", even_sum)\n",
        "```"
      ]
    },
    {
      "cell_type": "markdown",
      "metadata": {
        "id": "eRamENsBtj4C"
      },
      "source": [
        "# TODO-5"
      ]
    },
    {
      "cell_type": "code",
      "execution_count": null,
      "metadata": {
        "id": "AFnld-M7tj4C"
      },
      "outputs": [],
      "source": [
        "# Write your code below"
      ]
    },
    {
      "cell_type": "markdown",
      "metadata": {
        "id": "Di6w7hrTtj4C"
      },
      "source": [
        "**Exercise 2-2: Counting Characters**\n",
        "\n",
        "In this task, you'll write a script that counts the number of characters in each word of a given sentence. Here's what you need to do:\n",
        "\n",
        "1. Define a sentence as a string with several words.\n",
        "2. Use a `for` loop to iterate through each word in the sentence.\n",
        "3. Within the loop, count the number of characters in each word.\n",
        "4. Print the word and its corresponding character count.\n",
        "\n",
        "**Reflection MCQ 2:**\n",
        "\n",
        "What is the primary purpose of the `for` loop in this exercise?\n",
        "\n",
        "a) To count the number of characters in a sentence\n",
        "\n",
        "b) To display the sentence to the user\n",
        "\n",
        "c) To iterate through the words in a sentence and count the characters in each word\n",
        "\n",
        "d) To iterate through the characters in each word\n",
        "\n",
        "<details>\n",
        "<summary>Click to reveal the answer</summary>\n",
        "*Correct Answer: c) To iterate through the words in a sentence and count the characters in each word*"
      ]
    },
    {
      "cell_type": "markdown",
      "metadata": {
        "id": "sGiUCm67tj4D"
      },
      "source": [
        "# TODO-6"
      ]
    },
    {
      "cell_type": "code",
      "execution_count": null,
      "metadata": {
        "id": "D8S4omZatj4D"
      },
      "outputs": [],
      "source": [
        "# Code your solution to Exrercise 2-2 here"
      ]
    },
    {
      "cell_type": "markdown",
      "metadata": {
        "id": "ss8GAg_Htj4D"
      },
      "source": [
        "<details>\n",
        "<summary>Click to reveal the solution for Exercise 2-2:</summary>\n",
        "    \n",
        "```python\n",
        "# Define a sentence as a string\n",
        "sentence = \"This is a sample sentence for character counting.\"\n",
        "\n",
        "# Split the sentence into words\n",
        "words = sentence.split()\n",
        "\n",
        "# Iterate through the words and count characters\n",
        "for word in words:\n",
        "    char_count = len(word)\n",
        "    print(f\"{word}: {char_count} characters\")\n",
        "```"
      ]
    },
    {
      "cell_type": "markdown",
      "metadata": {
        "id": "7YUzVvS4tj4D"
      },
      "source": [
        "**Exercise 2-3: Generating a Multiplication Table**\n",
        "\n",
        "For this exercise, you'll create a Python script that generates a multiplication table for a given number. Here's what you need to do:\n",
        "\n",
        "1. Prompt the user to enter a numerical value.\n",
        "2. Use a `for` loop to iterate from 1 to 10.\n",
        "3. Within the loop, calculate the product of the user's number and the current loop variable (1 to 10).\n",
        "4. Print the equation and the result to create a multiplication table.\n",
        "\n",
        "**Reflection MCQ 3:**\n",
        "\n",
        "What is the primary purpose of the `for` loop in this exercise?\n",
        "\n",
        "a) To prompt the user for a number\n",
        "\n",
        "b) To calculate the product of two numbers\n",
        "\n",
        "c) To display the multiplication table\n",
        "\n",
        "d) To iterate through a range of numbers and perform multiplication for each\n",
        "\n",
        "<details>\n",
        "<summary>Click to reveal the answer</summary>\n",
        "*Correct Answer: d) To iterate through a range of numbers and perform multiplication for each*"
      ]
    },
    {
      "cell_type": "markdown",
      "metadata": {
        "id": "2Vm9DbWltj4D"
      },
      "source": [
        "# TODO-7"
      ]
    },
    {
      "cell_type": "code",
      "execution_count": null,
      "metadata": {
        "id": "mEAR8X5Ltj4D"
      },
      "outputs": [],
      "source": [
        "# Code your solution to Exrercise 2-3 here"
      ]
    },
    {
      "cell_type": "markdown",
      "metadata": {
        "id": "6yVULleStj4D"
      },
      "source": [
        "<details>\n",
        "<summary>Click to reveal the solution for Exercise 2-3:</summary>\n",
        "    \n",
        "```python\n",
        "# Prompt the user to enter a numerical value\n",
        "num = int(input(\"Enter a number: \"))\n",
        "\n",
        "# Generate a multiplication table for the given number\n",
        "for i in range(1, 11):\n",
        "    result = num * i\n",
        "    print(f\"{num} x {i} = {result}\")\n",
        "```\n",
        "\n",
        "**OR**\n",
        "\n",
        "```python\n",
        "# Prompt the user to enter a numerical value\n",
        "num = int(input(\"Enter a number: \"))\n",
        "\n",
        "# Generate a multiplication table for the given number\n",
        "for i in range(1, 11):\n",
        "    result = num * i\n",
        "    print(f\"{num} x {i} = {result}\")\n",
        "```"
      ]
    },
    {
      "cell_type": "markdown",
      "metadata": {
        "id": "kYogdCdHtj4D"
      },
      "source": [
        "## Time for Putting Everything in Practice"
      ]
    },
    {
      "cell_type": "markdown",
      "metadata": {
        "id": "k8CrnvAWtj4D"
      },
      "source": [
        "**Very Easy Problems:**\n",
        "\n",
        "1. **Problem: Introduction to Control Flow**\n",
        "   - Statement: Explain what control flow is in programming and provide one example of a control structure.\n",
        "   - Example: Control flow refers to the order in which statements are executed in a program. An example of a control structure is an `if` statement used to make decisions in code.\n",
        "\n",
        "2. **Problem: Identifying Loops**\n",
        "   - Statement: List two types of loops in Python and briefly describe their primary use.\n",
        "   - Example: Two types of loops in Python are `for` loops, used for iterating through sequences, and `while` loops, used for repeated execution based on a condition."
      ]
    },
    {
      "cell_type": "markdown",
      "metadata": {
        "id": "-DP_UL62tj4E"
      },
      "source": [
        "# TODO-8"
      ]
    },
    {
      "cell_type": "code",
      "execution_count": null,
      "metadata": {
        "id": "4LhB-Wyitj4E"
      },
      "outputs": [],
      "source": [
        "# Solution to Problem 1 Here"
      ]
    },
    {
      "cell_type": "markdown",
      "metadata": {
        "id": "pEZnFuq1tj4E"
      },
      "source": [
        "# TODO-9"
      ]
    },
    {
      "cell_type": "code",
      "execution_count": null,
      "metadata": {
        "id": "ziQcewn2tj4E"
      },
      "outputs": [],
      "source": [
        "# Solution to Problem 2 Here"
      ]
    },
    {
      "cell_type": "markdown",
      "metadata": {
        "id": "z_ixB1eStj4E"
      },
      "source": [
        "**Easy Problems:**\n",
        "\n",
        "3. **Problem: Simple If-Else Statement**\n",
        "   - Statement: Write a Python script that checks if a number is even or odd and prints an appropriate message.\n",
        "   - Example: If the user enters 6, the program should output: \"6 is even.\"\n",
        "\n",
        "4. **Problem: Counting Down with While Loop**\n",
        "   - Statement: Create a Python program that counts down from 10 to 1 using a `while` loop and prints each number.\n",
        "   - Example: Your program should output: \"10, 9, 8, 7, 6, 5, 4, 3, 2, 1.\""
      ]
    },
    {
      "cell_type": "markdown",
      "metadata": {
        "id": "RnupR2awtj4E"
      },
      "source": [
        "# TODO-10"
      ]
    },
    {
      "cell_type": "code",
      "execution_count": null,
      "metadata": {
        "id": "hBLDZNxHtj4E"
      },
      "outputs": [],
      "source": [
        "# Solution to Problem 3 Here"
      ]
    },
    {
      "cell_type": "markdown",
      "metadata": {
        "id": "9cZAwQiPtj4E"
      },
      "source": [
        "# TODO-11"
      ]
    },
    {
      "cell_type": "code",
      "execution_count": null,
      "metadata": {
        "id": "n493c6XXtj4E"
      },
      "outputs": [],
      "source": [
        "# Solution to Problem 4 Here"
      ]
    },
    {
      "cell_type": "markdown",
      "metadata": {
        "id": "JJS0JFfptj4F"
      },
      "source": [
        "**Medium Problems:**\n",
        "\n",
        "5. **Problem: Finding the Maximum**\n",
        "   - Statement: Write a Python script to find the maximum value in a list of numbers.\n",
        "   - Example: If the list is [12, 45, 23, 8, 37], your program should output: \"The maximum value is 45.\"\n",
        "\n",
        "6. **Problem: Multiplication Table with For Loop**\n",
        "   - Statement: Create a Python script that generates a multiplication table for a given number (up to 10) using a `for` loop.\n",
        "   - Example: If the user enters 7, your program should output the complete multiplication table for 7."
      ]
    },
    {
      "cell_type": "markdown",
      "metadata": {
        "id": "wOnQCp2Ftj4F"
      },
      "source": [
        "# TODO-12"
      ]
    },
    {
      "cell_type": "code",
      "execution_count": null,
      "metadata": {
        "id": "9k9EuIHWtj4F"
      },
      "outputs": [],
      "source": [
        "# Solution to Problem 5 Here"
      ]
    },
    {
      "cell_type": "markdown",
      "metadata": {
        "id": "DCh91hlqtj4F"
      },
      "source": [
        "# TODO-13"
      ]
    },
    {
      "cell_type": "code",
      "execution_count": null,
      "metadata": {
        "id": "fsd9xIsAtj4F"
      },
      "outputs": [],
      "source": [
        "# Solution to Problem 6 Here"
      ]
    },
    {
      "cell_type": "markdown",
      "metadata": {
        "id": "mDgZro3Dtj4F"
      },
      "source": [
        "**Difficult Problem:**\n",
        "\n",
        "7. **Problem: Palindromic Phrases**\n",
        "   - Statement: Write a Python program to find and print all palindromic phrases in a given text. A palindromic phrase reads the same forwards and backward, ignoring spaces, punctuation, and letter case (e.g., \"A man, a plan, a canal, Panama!\").\n",
        "   - Hint: You'll need to remove spaces, punctuation, and convert all letters to lowercase for comparison.\n",
        "   - Example: If the input text is \"A Santa at NASA,\" your program should output: \"A man, a plan, a canal, Panama!\"."
      ]
    },
    {
      "cell_type": "markdown",
      "metadata": {
        "id": "wc8IioBotj4F"
      },
      "source": [
        "# TODO-14"
      ]
    },
    {
      "cell_type": "code",
      "execution_count": null,
      "metadata": {
        "id": "huH_0sJ3tj4F"
      },
      "outputs": [],
      "source": [
        "# Solution to Problem 7 Here"
      ]
    },
    {
      "cell_type": "markdown",
      "metadata": {
        "id": "DAlhjTRMtj4F"
      },
      "source": [
        "## List Comprehension\n",
        "\n",
        "**1. What is list comprehension?**\n",
        "\n",
        "List comprehension is a concise and elegant way to create lists in programming languages like Python. It allows you to **create a new list by applying an expression to each item in an existing iterable (e.g., a list, tuple, or range) and optionally applying a filter condition**. List comprehensions are a feature found in many high-level programming languages, but they are particularly popular and powerful in Python.\n",
        "\n",
        "**2. Why list comprehensions?**\n",
        "\n",
        "List comprehensions offer several advantages:\n",
        "- **Conciseness:** They often require fewer lines of code compared to traditional for loops, making your code more readable and maintainable.\n",
        "- **Readability:** List comprehensions express the transformation of data more directly and succinctly, making the code easier to understand.\n",
        "- **Performance:** List comprehensions can be faster than equivalent for loops because they are optimized at the bytecode level."
      ]
    },
    {
      "cell_type": "markdown",
      "metadata": {
        "id": "W2XbIDmztj4F"
      },
      "source": [
        "**3. Basic Syntax and Structure:**\n",
        "\n",
        "The basic structure of a list comprehension in Python is as follows:\n",
        "\n",
        "```python\n",
        "new_list = [expression for item in iterable if condition]\n",
        "```\n",
        "\n",
        "- `expression` is the transformation you want to apply to each `item`.\n",
        "- `item` represents the elements in the iterable.\n",
        "- `iterable` is the source data (e.g., a list).\n",
        "- `condition` is an optional filter that can be used to include only certain items in the new list.\n",
        "\n",
        "Here's an example that creates a new list containing the squares of numbers from 1 to 5:\n",
        "\n",
        "```python\n",
        "squares = [x**2 for x in range(1, 6)]\n",
        "# Result: [1, 4, 9, 16, 25]\n",
        "```"
      ]
    },
    {
      "cell_type": "code",
      "execution_count": null,
      "metadata": {
        "id": "lqVbdjsAtj4G",
        "outputId": "e306b492-e6fa-4cc4-ae36-c3ee1b0bca13"
      },
      "outputs": [
        {
          "name": "stdout",
          "output_type": "stream",
          "text": [
            "[1, 4, 9, 16, 25]\n"
          ]
        }
      ],
      "source": [
        "#squares = [x**2 for x in range(1, 6)]\n",
        "squares = []\n",
        "for i in range(1,6):\n",
        "    squares.append(i**2)\n",
        "print(squares)"
      ]
    },
    {
      "cell_type": "markdown",
      "metadata": {
        "id": "kVkQiaiItj4G"
      },
      "source": [
        "**4. Variations and Examples:**\n",
        "\n",
        "List comprehensions can be used with different iterables and expressions. Here are a few examples:\n",
        "\n",
        "- **Creating a list of even numbers:**\n",
        "\n",
        "```python\n",
        "even_numbers = [x for x in range(1, 11) if x % 2 == 0]\n",
        "# Result: [2, 4, 6, 8, 10]\n",
        "```\n",
        "\n",
        "- **Creating a list of words longer than a certain length:**\n",
        "\n",
        "```python\n",
        "words = [\"apple\", \"banana\", \"cherry\", \"date\", \"elderberry\"]\n",
        "long_words = [word for word in words if len(word) > 5]\n",
        "# Result: [\"banana\", \"cherry\", \"elderberry\"]\n",
        "```"
      ]
    },
    {
      "cell_type": "code",
      "execution_count": null,
      "metadata": {
        "id": "DBvrq3Uytj4G",
        "outputId": "ca9a2128-17ef-435b-a935-7502855b7293"
      },
      "outputs": [
        {
          "name": "stdout",
          "output_type": "stream",
          "text": [
            "[2, 4, 6, 8, 10]\n",
            ".........................\n",
            "['banana', 'cherry', 'elderberry']\n"
          ]
        }
      ],
      "source": [
        "even_numbers = [x for x in range(1, 11) if x % 2 == 0]\n",
        "print(even_numbers)\n",
        "print(\".........................\")\n",
        "words = [\"apple\", \"banana\", \"cherry\", \"date\", \"elderberry\"]\n",
        "long_words = [word for word in words if len(word) > 5]\n",
        "print(long_words)"
      ]
    },
    {
      "cell_type": "markdown",
      "metadata": {
        "id": "3XCYwH3Wtj4G"
      },
      "source": [
        "**5. Nested List Comprehensions:**\n",
        "\n",
        "You can also create nested list comprehensions, which allow you to work with multi-dimensional data structures like lists of lists. For example, to flatten a 2D list into a 1D list:\n",
        "\n",
        "```python\n",
        "matrix = [[1, 2, 3], [4, 5, 6], [7, 8, 9]]\n",
        "flattened = [x for row in matrix for x in row]\n",
        "# Result: [1, 2, 3, 4, 5, 6, 7, 8, 9]\n",
        "```\n"
      ]
    },
    {
      "cell_type": "code",
      "execution_count": null,
      "metadata": {
        "id": "A0tAjXgBtj4G",
        "outputId": "19ac78b2-8014-4910-84a6-b1ab4de01dbd"
      },
      "outputs": [
        {
          "name": "stdout",
          "output_type": "stream",
          "text": [
            "[1, 2, 3, 4, 5, 6, 7, 8, 9]\n"
          ]
        }
      ],
      "source": [
        "matrix = [[1, 2, 3], [4, 5, 6], [7, 8, 9]]\n",
        "flattened = [x for row in matrix for x in row]\n",
        "print(flattened)"
      ]
    },
    {
      "cell_type": "markdown",
      "metadata": {
        "id": "TwFRDOwQtj4G"
      },
      "source": [
        "**6. List Comprehensions vs. Traditional Loops:**\n",
        "\n",
        "List comprehensions are more concise and expressive compared to traditional for loops. Here's a comparison between the two for creating a list of squares:\n",
        "\n",
        "**Using a for loop:**\n",
        "\n",
        "```python\n",
        "squares = []\n",
        "for x in range(1, 6):\n",
        "    squares.append(x**2)\n",
        "```\n",
        "\n",
        "**Using a list comprehension:**\n",
        "\n",
        "```python\n",
        "squares = [x**2 for x in range(1, 6)]\n",
        "```\n",
        "\n",
        "While both approaches yield the same result, list comprehensions are often preferred for their simplicity and clarity. However, there may be cases where using traditional loops is more appropriate, especially when you need more complex control flow or multiple operations per iteration. List comprehensions are a valuable tool, but they aren't always a one-size-fits-all solution.\n",
        "\n",
        "In summary, list comprehensions are a powerful and concise way to create lists in Python, offering improved readability and potentially better performance compared to traditional loops. They are a valuable tool in your programming toolkit for transforming and filtering data."
      ]
    },
    {
      "cell_type": "markdown",
      "metadata": {
        "id": "sLLywJTktj4H"
      },
      "source": [
        "## Introducing Functions"
      ]
    },
    {
      "cell_type": "markdown",
      "metadata": {
        "id": "Ea34ulvjtj4H"
      },
      "source": [
        "### **Introducing Functions **\n",
        "\n",
        "Functions are an essential concept in programming that allow you to encapsulate a set of instructions into a reusable block of code. In this section, we'll provide an introduction to what functions are and why they're crucial in programming.\n",
        "\n",
        "* **What Are Functions?**\n",
        "\n",
        "  Functions in programming are similar to functions in mathematics. They take input, perform some operations, and produce an output. Think of them as small, self-contained programs within your larger program.\n",
        "\n",
        "* **Why Functions Matter**\n",
        "\n",
        "  Functions serve several important purposes:\n",
        "\n",
        "  - **Reusability**: You can write a function once and use it multiple times in your code, reducing redundancy.\n",
        "  \n",
        "  - **Modularity**: Functions help you break down a complex program into smaller, manageable parts, making your code more organized and easier to maintain.\n",
        "\n",
        "  - **Abstraction**: Functions allow you to abstract the details of a specific task, making your code more readable and easier to understand.\n",
        "\n",
        "  Functions are the building blocks of Python programs, and mastering them is key to becoming a proficient programmer."
      ]
    },
    {
      "cell_type": "markdown",
      "metadata": {
        "id": "0xVv5l0Mtj4H"
      },
      "source": [
        "### **Defining Functions**\n",
        "\n",
        "In this section, we'll learn how to define functions in Python and understand their structure.\n",
        "\n",
        "* **Defining a Function**\n",
        "\n",
        "  To define a function in Python, you use the `def` keyword, followed by the function name and parentheses. For example:\n",
        "\n",
        "  ```python\n",
        "  def greet(name):\n",
        "      print(\"Hello, \" + name + \"!\")\n",
        "  ```\n",
        "\n",
        "  Here, `greet` is the function name, and `name` is a parameter (also called an argument) that the function accepts.\n",
        "\n",
        "* **The Function Body**\n",
        "\n",
        "  The function body contains the code that will be executed when the function is called. It is indented under the `def` statement and can include one or more lines of code. For example:\n",
        "\n",
        "  ```python\n",
        "  def square(number):\n",
        "      result = number ** 2\n",
        "      return result\n",
        "  ```\n",
        "\n",
        "  In this function, we calculate the square of a number and return the result.\n",
        "\n",
        "* **Parameters and Arguments**\n",
        "\n",
        "  Parameters are placeholders in the function definition. They specify the values the function expects when called. In our previous examples, `name` and `number` are parameters.\n",
        "\n",
        "  Arguments are the actual values passed to the function when it's called. For instance, when you call `greet(\"Alice\")`, \"Alice\" is an argument passed to the `name` parameter.\n",
        "\n",
        "* **Returning Values**\n",
        "\n",
        "  Functions can return values using the `return` statement. The value returned can be used in your code. For example:\n",
        "\n",
        "  ```python\n",
        "  def add(x, y):\n",
        "      result = x + y\n",
        "      return result\n",
        "  ```\n",
        "\n",
        "  When you call `add(3, 5)`, the function returns `8`, which can be assigned to a variable or used directly."
      ]
    },
    {
      "cell_type": "markdown",
      "metadata": {
        "id": "Pn1I4rjttj4H"
      },
      "source": [
        "### **Function Call**\n",
        "\n",
        "Now that we've learned how to define functions, let's explore how to call them and pass arguments.\n",
        "\n",
        "* **Calling a Function**\n",
        "\n",
        "  To call a function, you use its name followed by parentheses. For instance:\n",
        "\n",
        "  ```python\n",
        "  greet(\"Alice\")\n",
        "  ```\n",
        "\n",
        "  This calls the `greet` function with \"Alice\" as the argument.\n",
        "\n",
        "* **Passing Arguments**\n",
        "\n",
        "  You can pass one or more arguments to a function. When you call the function, the arguments are matched to the parameters in order. For example:\n",
        "\n",
        "  ```python\n",
        "  def multiply(a, b):\n",
        "      result = a * b\n",
        "      return result\n",
        "\n",
        "  product = multiply(4, 7)\n",
        "  ```\n",
        "\n",
        "  In this case, `4` is assigned to `a` and `7` to `b`, and the function returns the product of these values, which is stored in the `product` variable."
      ]
    },
    {
      "cell_type": "code",
      "execution_count": null,
      "metadata": {
        "id": "8G4aLPgltj4H",
        "outputId": "7ca49bd8-dd14-4b54-c7ce-d16e76d8fc7f"
      },
      "outputs": [
        {
          "name": "stdout",
          "output_type": "stream",
          "text": [
            "4 7 28\n"
          ]
        }
      ],
      "source": [
        "# Function Definition\n",
        "def multiply(a, b):\n",
        "    return a, b, a*b\n",
        "    #result = a * b\n",
        "    #return result\n",
        "\n",
        "# Function Call\n",
        "a, b, product = multiply(4, 7)\n",
        "print(a, b, product)\n",
        "#print(multiply(4, 7))"
      ]
    },
    {
      "cell_type": "markdown",
      "metadata": {
        "id": "iYIoATMUtj4H"
      },
      "source": [
        "* **Returning Values**\n",
        "\n",
        "  When a function returns a value, you can use it in your code. For example:\n",
        "\n",
        "  ```python\n",
        "  def double(number):\n",
        "      result = number * 2\n",
        "      return result\n",
        "\n",
        "  original = 6\n",
        "  doubled = double(original)\n",
        "  ```\n",
        "\n",
        "  In this case, `doubled` will be `12` because the function returns the double of `original`.\n",
        "\n",
        "Understanding how to call functions and pass arguments is crucial because it enables you to utilize the logic encapsulated within functions and apply it to various parts of your program.\n",
        "\n",
        "This concludes our introduction to functions, defining them, and calling them. In the following sessions, we'll explore more advanced aspects of functions and apply them to real-world problems."
      ]
    },
    {
      "cell_type": "markdown",
      "metadata": {
        "id": "2CUhEHOOtj4I"
      },
      "source": [
        "### Reflection\n",
        "\n",
        "1. What is the primary purpose of defining functions in Python?\n",
        "   - A) To store data\n",
        "   - B) To perform mathematical calculations\n",
        "   - C) To organize and reuse code\n",
        "   - D) To create graphical user interfaces\n",
        "   \n",
        "   <details>\n",
        "<summary>Click to reveal the answer</summary>\n",
        "\n",
        "   - **Answer: C) To organize and reuse code**"
      ]
    },
    {
      "cell_type": "markdown",
      "metadata": {
        "id": "fjEayxERtj4I"
      },
      "source": [
        "2. In Python, what is a function call?\n",
        "   - A) A request to the Python interpreter\n",
        "   - B) A way to define a new function\n",
        "   - C) A statement that invokes a function's code\n",
        "   - D) A data type used for function parameters\n",
        "   \n",
        "   <details>\n",
        "<summary>Click to reveal the answer</summary>\n",
        "\n",
        "   - **Answer: C) A statement that invokes a function's code**"
      ]
    },
    {
      "cell_type": "markdown",
      "metadata": {
        "id": "KeI_bDPLtj4I"
      },
      "source": [
        "### **Return Statement**\n",
        "\n",
        "In this section, we'll dive deeper into functions, specifically focusing on the return statement, which allows functions to send data back to the caller.\n",
        "\n",
        "* **The Return Statement**\n",
        "\n",
        "  The `return` statement is used to specify the value that a function should return. It can return a single value, multiple values (as a tuple), or even no value (in which case it returns `None`).\n",
        "\n",
        "  For example:\n",
        "\n",
        "  ```python\n",
        "  def add(x, y):\n",
        "      result = x + y\n",
        "      return result\n",
        "  ```\n",
        "\n",
        "  In this function, the `return` statement sends back the value of `result`, which is the sum of `x` and `y`.\n",
        "\n",
        "* **Returning Multiple Values**\n",
        "\n",
        "  You can return multiple values as a tuple. For instance:\n",
        "\n",
        "  ```python\n",
        "  def coordinates(x, y):\n",
        "      return x, y\n",
        "  ```\n",
        "\n",
        "  When you call this function with `coordinates(3, 4)`, it returns a tuple `(3, 4)`, containing both `x` and `y`."
      ]
    },
    {
      "cell_type": "code",
      "execution_count": null,
      "metadata": {
        "id": "mro6MyUdtj4I"
      },
      "outputs": [],
      "source": [
        "  def coordinates(x, y):\n",
        "      return x, y\n",
        "\n",
        "#a = coordinates(2, 3)\n",
        "a, b = coordinates(2, 3)\n",
        "print(type(a))\n",
        "print(a, b)"
      ]
    },
    {
      "cell_type": "markdown",
      "metadata": {
        "id": "ovFpDHW-tj4I"
      },
      "source": [
        "* **Returning `None`**\n",
        "\n",
        "  If a function doesn't have a `return` statement, or if it has a `return` statement with no value, it returns `None`. For example:\n",
        "\n",
        "  ```python\n",
        "  def do_nothing():\n",
        "      return None\n",
        "  ```\n",
        "\n",
        "  This function returns `None` when called."
      ]
    },
    {
      "cell_type": "code",
      "execution_count": null,
      "metadata": {
        "id": "FqlPPBLitj4I"
      },
      "outputs": [],
      "source": [
        "def do_nothing():\n",
        "    return None\n",
        "    print(\"..inside do_nothing()..\")\n",
        "    pass\n",
        "\n",
        "print(do_nothing())"
      ]
    },
    {
      "cell_type": "markdown",
      "metadata": {
        "id": "TIqp2FBMtj4I"
      },
      "source": [
        "## **Scope**\n",
        "\n",
        "Understanding scope is crucial when working with functions as it determines where a variable can be accessed in your code.\n",
        "\n",
        "* **Local Scope**\n",
        "\n",
        "  Variables defined inside a function have local scope, which means they are only accessible within that function. For example:\n",
        "\n",
        "  ```python\n",
        "  def example_function():\n",
        "      local_variable = 42\n",
        "  ```\n",
        "\n",
        "  `local_variable` can only be used inside `example_function`."
      ]
    },
    {
      "cell_type": "code",
      "execution_count": null,
      "metadata": {
        "id": "SPa6SvBqtj4J",
        "outputId": "b11514a8-aa7e-4e57-8b2c-8e58fba8c2fd"
      },
      "outputs": [
        {
          "ename": "NameError",
          "evalue": "name 'local_variable' is not defined",
          "output_type": "error",
          "traceback": [
            "\u001b[1;31m---------------------------------------------------------------------------\u001b[0m",
            "\u001b[1;31mNameError\u001b[0m                                 Traceback (most recent call last)",
            "\u001b[1;32m<ipython-input-47-fc3650fd3706>\u001b[0m in \u001b[0;36m<module>\u001b[1;34m()\u001b[0m\n\u001b[0;32m      2\u001b[0m     \u001b[0mlocal_variable\u001b[0m \u001b[1;33m=\u001b[0m \u001b[1;36m42\u001b[0m\u001b[1;33m\u001b[0m\u001b[0m\n\u001b[0;32m      3\u001b[0m \u001b[1;33m\u001b[0m\u001b[0m\n\u001b[1;32m----> 4\u001b[1;33m \u001b[0mprint\u001b[0m\u001b[1;33m(\u001b[0m\u001b[0mlocal_variable\u001b[0m\u001b[1;33m)\u001b[0m\u001b[1;33m\u001b[0m\u001b[0m\n\u001b[0m",
            "\u001b[1;31mNameError\u001b[0m: name 'local_variable' is not defined"
          ]
        }
      ],
      "source": [
        "def example_function():\n",
        "    local_variable = 42\n",
        "\n",
        "print(local_variable)"
      ]
    },
    {
      "cell_type": "markdown",
      "metadata": {
        "id": "HhKEjzEytj4J"
      },
      "source": [
        "* **Global Scope**\n",
        "\n",
        "  Variables defined outside any function have global scope and can be accessed from anywhere in the code. For instance:\n",
        "\n",
        "  ```python\n",
        "  global_variable = 100\n",
        "  def another_function():\n",
        "      result = global_variable * 2\n",
        "  ```\n",
        "\n",
        "  `global_variable` can be used within both `another_function` and any other part of the code."
      ]
    },
    {
      "cell_type": "code",
      "execution_count": null,
      "metadata": {
        "id": "kk3t88rmtj4J",
        "outputId": "8368de8b-f2dc-4e8f-8f7f-e5ee259aecd0"
      },
      "outputs": [
        {
          "name": "stdout",
          "output_type": "stream",
          "text": [
            "4\n",
            "100\n"
          ]
        }
      ],
      "source": [
        "global_variable = 100\n",
        "def another_function():\n",
        "    global_variable = 2\n",
        "    result = global_variable * 2\n",
        "    return result\n",
        "\n",
        "print(another_function())\n",
        "print(global_variable)"
      ]
    },
    {
      "cell_type": "markdown",
      "metadata": {
        "id": "d1dOOHuxtj4J"
      },
      "source": [
        "### **Built-in Functions**\n",
        "\n",
        "Python provides a wide range of built-in functions that make programming more convenient. Let's explore some of the commonly used built-in functions.\n",
        "\n",
        "* **`print()`**\n",
        "\n",
        "  The `print()` function is used to display output to the console. You can pass one or more values to `print()`, and it will display them.\n",
        "\n",
        "  ```python\n",
        "  print(\"Hello, world!\")\n",
        "  ```\n",
        "\n",
        "* **`len()`**\n",
        "\n",
        "  The `len()` function is used to get the length of a sequence, such as a string or a list.\n",
        "\n",
        "  ```python\n",
        "  string_length = len(\"Python\")\n",
        "  ```\n",
        "\n",
        "  `string_length` will be `6`.\n",
        "\n",
        "* **`input()`**\n",
        "\n",
        "  The `input()` function is used to collect user input from the console.\n",
        "\n",
        "  ```python\n",
        "  user_name = input(\"Enter your name: \")\n",
        "  ```\n",
        "\n",
        "  `user_name` will store the name entered by the user.\n",
        "\n",
        "* **`max()` and `min()`**\n",
        "\n",
        "  `max()` and `min()` functions are used to find the maximum and minimum values in a sequence, respectively.\n",
        "\n",
        "  ```python\n",
        "  numbers = [3, 7, 1, 9, 5]\n",
        "  max_value = max(numbers)\n",
        "  min_value = min(numbers)\n",
        "  ```\n",
        "\n",
        "  `max_value` will be `9`, and `min_value` will be `1`.\n",
        "\n",
        "Understanding and utilizing these built-in functions will make your coding tasks more efficient and simplify your code.\n",
        "\n",
        "That concludes our discussion on the return statement, scope, and some common built-in functions in Python. These concepts are foundational and will serve as the basis for more advanced topics in Python programming."
      ]
    },
    {
      "cell_type": "markdown",
      "metadata": {
        "id": "XjQFLz5Ctj4J"
      },
      "source": [
        "### Reflection\n",
        "\n",
        "What is the purpose of the \"return\" statement in a Python function?\n",
        "   - A) To print output to the console\n",
        "   - B) To define a new variable\n",
        "   - C) To exit the program\n",
        "   - D) To send a value back to the function caller\n",
        "   \n",
        "   <details>\n",
        "<summary>Click to reveal the answer</summary>\n",
        "   - **Answer: D) To send a value back to the function caller**"
      ]
    },
    {
      "cell_type": "markdown",
      "metadata": {
        "id": "eASxI5n3tj4J"
      },
      "source": [
        "What does \"scope\" refer to in the context of Python functions?\n",
        "   - A) The size of the function's code\n",
        "   - B) The area where the function is stored in memory\n",
        "   - C) The visibility and accessibility of variables\n",
        "   - D) The order of function execution\n",
        "   \n",
        "   <details>\n",
        "<summary>Click to reveal the answer</summary>\n",
        "   - **Answer: C) The visibility and accessibility of variables**"
      ]
    },
    {
      "cell_type": "markdown",
      "metadata": {
        "id": "aey7yOS4tj4K"
      },
      "source": [
        "Which of the following is NOT a built-in function in Python?\n",
        "   - A) len()\n",
        "   - B) input()\n",
        "   - C) calculate_area()\n",
        "   - D) print()\n",
        "   \n",
        "   <details>\n",
        "<summary>Click to reveal the answer</summary>\n",
        "   - **Answer: C) calculate_area()**"
      ]
    },
    {
      "cell_type": "markdown",
      "metadata": {
        "id": "k3ZXZjP7tj4K"
      },
      "source": [
        "### **Best Practices**\n",
        "\n",
        "In this section, we'll discuss some best practices for writing clean and maintainable functions in Python.\n",
        "\n",
        "* **Descriptive Function Names**\n",
        "\n",
        "  Choose meaningful and descriptive names for your functions. A good function name should explain what the function does without the need for additional comments. For example, `calculate_area()` is more descriptive than `calc()`.\n",
        "\n",
        "* **Commenting and Documentation**\n",
        "\n",
        "  Add comments and docstrings to explain what your function does, the expected inputs, and the return values. Proper documentation makes your code more readable and helps other programmers (including your future self) understand your code.\n",
        "\n",
        "  ```python\n",
        "  def calculate_area(length, width):\n",
        "      \"\"\"\n",
        "      Calculate the area of a rectangle.\n",
        "\n",
        "      Args:\n",
        "          length (float): The length of the rectangle.\n",
        "          width (float): The width of the rectangle.\n",
        "\n",
        "      Returns:\n",
        "          float: The calculated area.\n",
        "      \"\"\"\n",
        "      return length * width\n",
        "  ```"
      ]
    },
    {
      "cell_type": "markdown",
      "metadata": {
        "id": "_F4p22G4tj4K"
      },
      "source": [
        "* **Function Design Principles**\n",
        "\n",
        "  Follow these design principles:\n",
        "\n",
        "  - **Single Responsibility**: Each function should have a single, well-defined purpose.\n",
        "  - **Avoid Global Variables**: Minimize the use of global variables; use function parameters instead.\n",
        "  - **Avoid Hardcoding**: Avoid hardcoding values within functions; make them parameters.\n",
        "  - **Modularity**: Break down complex tasks into smaller, modular functions.\n",
        "  - **Consistency**: Follow naming conventions and keep a consistent coding style.\n",
        "\n",
        "By following these best practices, your code will be more readable, maintainable, and easier to collaborate on with other programmers.\n",
        "\n",
        "That concludes our discussion on recursion and best practices when working with functions in Python. Understanding these concepts and following best practices will help you write more efficient, readable, and maintainable code."
      ]
    },
    {
      "cell_type": "markdown",
      "metadata": {
        "id": "eHKAbWFCtj4K"
      },
      "source": [
        "### Reflection\n",
        "\n",
        "What is recursion in programming?\n",
        "   - A) A function that is called once\n",
        "   - B) A function that calls itself\n",
        "   - C) A loop that iterates indefinitely\n",
        "   - D) A built-in Python function\n",
        "   \n",
        "   <details>\n",
        "<summary>Click to reveal the answer</summary>\n",
        "   - **Answer: B) A function that calls itself**"
      ]
    },
    {
      "cell_type": "markdown",
      "metadata": {
        "id": "of38L9mOtj4K"
      },
      "source": [
        "What is a \"base case\" in a recursive function?\n",
        "   - A) The starting point of the recursion\n",
        "   - B) A case where the function returns \"None\"\n",
        "   - C) A condition that prevents infinite recursion\n",
        "   - D) The maximum number of recursive calls allowed\n",
        "   \n",
        "   <details>\n",
        "<summary>Click to reveal the answer</summary>\n",
        "   - **Answer: C) A condition that prevents infinite recursion**"
      ]
    },
    {
      "cell_type": "markdown",
      "metadata": {
        "id": "kOZYMffCtj4L"
      },
      "source": [
        "When is recursion an appropriate choice for problem-solving?\n",
        "   - A) When it simplifies the problem and makes it more readable\n",
        "   - B) When it always results in faster program execution\n",
        "   - C) When the problem cannot be solved using any other technique\n",
        "   - D) When it guarantees a shorter code length\n",
        "   \n",
        "   <details>\n",
        "<summary>Click to reveal the answer</summary>\n",
        "   - **Answer: A) When it simplifies the problem and makes it more readable**"
      ]
    },
    {
      "cell_type": "markdown",
      "metadata": {
        "id": "WHpE2IIFtj4L"
      },
      "source": [
        "What is the purpose of adding comments and docstrings to your code?\n",
        "   - A) To hide the code from other developers\n",
        "   - B) To slow down the program's execution\n",
        "   - C) To improve code readability and maintainability\n",
        "   - D) To make the code run faster\n",
        "   \n",
        "   <details>\n",
        "<summary>Click to reveal the answer</summary>\n",
        "   - **Answer: C) To improve code readability and maintainability**"
      ]
    },
    {
      "cell_type": "markdown",
      "metadata": {
        "id": "BpzLxMxHtj4L"
      },
      "source": [
        "Which of the following is NOT a best practice for function design in Python?\n",
        "   - A) Ensuring functions have a single, well-defined purpose\n",
        "   - B) Avoiding global variables within functions\n",
        "   - C) Using the same variable names throughout the code\n",
        "   - D) Replacing hard-coded values with parameters where appropriate\n",
        "   \n",
        "   <details>\n",
        "<summary>Click to reveal the answer</summary>\n",
        "   - **Answer: C) Using the same variable names throughout the code**"
      ]
    },
    {
      "cell_type": "markdown",
      "metadata": {
        "id": "e_Ya3-citj4L"
      },
      "source": [
        "### **Exercise 1: Simple Function**\n",
        "\n",
        "In this exercise, we'll start with a simple function. We'll create a function that takes two numbers as arguments and returns their sum. This exercise aims to help you understand the basic structure of functions and how to use the `return` statement.\n",
        "\n",
        "* **Function Definition**\n",
        "\n",
        "  We'll start by defining a function called `add_numbers` that takes two parameters, `a` and `b`.\n",
        "\n",
        "  ```python\n",
        "  def add_numbers(a, b):\n",
        "      # Your code goes here\n",
        "  ```\n",
        "\n",
        "* **Adding Logic**\n",
        "\n",
        "  Inside the function, write the code to calculate the sum of `a` and `b` and store it in a variable. Then, use the `return` statement to send this result back.\n",
        "\n",
        "  ```python\n",
        "  def add_numbers(a, b):\n",
        "      result = a + b\n",
        "      return result\n",
        "  ```\n",
        "\n",
        "* **Calling the Function**\n",
        "\n",
        "  After defining the function, call it with different values to ensure it works correctly. For example:\n",
        "\n",
        "  ```python\n",
        "  sum_result = add_numbers(5, 7)\n",
        "  print(\"Sum:\", sum_result)\n",
        "  ```\n",
        "\n",
        "  Verify that the function returns the correct sum."
      ]
    },
    {
      "cell_type": "markdown",
      "metadata": {
        "id": "l4oHbHGytj4L"
      },
      "source": [
        "# TODO-1"
      ]
    },
    {
      "cell_type": "code",
      "execution_count": null,
      "metadata": {
        "id": "cr0aSPE2tj4L"
      },
      "outputs": [],
      "source": [
        "# Code your solution to Exrercise 1 here"
      ]
    },
    {
      "cell_type": "markdown",
      "metadata": {
        "id": "YoFtk8WPtj4L"
      },
      "source": [
        "<details>\n",
        "<summary>Click to reveal the solution to Exercise 1</summary>\n",
        "\n",
        "```python\n",
        "def add_numbers(a, b):\n",
        "    result = a + b\n",
        "    return result\n",
        "\n",
        "sum_result = add_numbers(5, 7)\n",
        "print(\"Sum:\", sum_result)\n",
        "```"
      ]
    },
    {
      "cell_type": "markdown",
      "metadata": {
        "id": "c8AZpzuStj4L"
      },
      "source": [
        "### **Exercise 2: Function with Parameters and Return**\n",
        "\n",
        "In this exercise, we'll create a function that calculates the area of a rectangle. This function will have parameters for length and width, and it will return the calculated area. This exercise will help you practice using parameters and the `return` statement.\n",
        "\n",
        "* **Function Definition**\n",
        "\n",
        "  Start by defining a function called `calculate_area` that takes two parameters, `length` and `width`.\n",
        "\n",
        "  ```python\n",
        "  def calculate_area(length, width):\n",
        "      # Your code goes here\n",
        "  ```\n",
        "\n",
        "* **Adding Logic**\n",
        "\n",
        "  Within the function, calculate the area of the rectangle using the formula `area = length * width`. Store the result in a variable, and then use the `return` statement to send it back.\n",
        "\n",
        "  ```python\n",
        "  def calculate_area(length, width):\n",
        "      area = length * width\n",
        "      return area\n",
        "  ```"
      ]
    },
    {
      "cell_type": "markdown",
      "metadata": {
        "id": "X01UhozVtj4M"
      },
      "source": [
        "* **Calling the Function**\n",
        "\n",
        "  After defining the function, call it with different values for `length` and `width to verify that it correctly calculates the area.\n",
        "\n",
        "  ```python\n",
        "  rectangle_length = 8\n",
        "  rectangle_width = 4\n",
        "\n",
        "  area_result = calculate_area(rectangle_length, rectangle_width)\n",
        "  print(\"Rectangle Area:\", area_result)\n",
        "  ```\n",
        "\n",
        "  Check that the function returns the expected area for the given length and width values.\n",
        "\n",
        "By completing these exercises, you'll gain hands-on experience with defining functions, using parameters, and utilizing the `return` statement to send results back from functions. These are fundamental skills that you'll use in various programming scenarios."
      ]
    },
    {
      "cell_type": "markdown",
      "metadata": {
        "id": "2MVcO9bVtj4M"
      },
      "source": [
        "# TODO-2"
      ]
    },
    {
      "cell_type": "code",
      "execution_count": null,
      "metadata": {
        "id": "asZudn1Gtj4M"
      },
      "outputs": [],
      "source": [
        "# Code your solution to Exrercise 2 here"
      ]
    },
    {
      "cell_type": "markdown",
      "metadata": {
        "id": "YbhpR5DMtj4M"
      },
      "source": [
        "<details>\n",
        "<summary>Click to reveal the solution to Exercise 2</summary>\n",
        "\n",
        "```python\n",
        "def calculate_area(length, width):\n",
        "    area = length * width\n",
        "    return area\n",
        "\n",
        "rectangle_length = 8\n",
        "rectangle_width = 4\n",
        "\n",
        "area_result = calculate_area(rectangle_length, rectangle_width)\n",
        "print(\"Rectangle Area:\", area_result)\n",
        "```"
      ]
    },
    {
      "cell_type": "markdown",
      "metadata": {
        "id": "xQUq0LJwtj4M"
      },
      "source": [
        "### **Exercise 3: Function with Conditional Logic**\n",
        "\n",
        "In this exercise, we'll create a function that takes an integer as input and returns either \"Even\" or \"Odd\" based on the input value. This exercise will help you practice using conditional statements in functions.\n",
        "\n",
        "* **Function Definition**\n",
        "\n",
        "  Start by defining a function called `even_or_odd` that takes a single parameter, `number`.\n",
        "\n",
        "  ```python\n",
        "  def even_or_odd(number):\n",
        "      # Your code goes here\n",
        "  ```\n",
        "\n",
        "* **Adding Conditional Logic**\n",
        "\n",
        "  Inside the function, use conditional statements (if-else) to check whether the `number` is even or odd. Depending on the result, use the `return` statement to send back \"Even\" or \"Odd.\"\n",
        "\n",
        "  ```python\n",
        "  def even_or_odd(number):\n",
        "      if number % 2 == 0:\n",
        "          return \"Even\"\n",
        "      else:\n",
        "          return \"Odd\"\n",
        "  ```"
      ]
    },
    {
      "cell_type": "markdown",
      "metadata": {
        "id": "_ALGKMkTtj4M"
      },
      "source": [
        "* **Calling the Function**\n",
        "\n",
        "  After defining the function, call it with different numbers to ensure it correctly identifies whether they are even or odd.\n",
        "\n",
        "  ```python\n",
        "  result1 = even_or_odd(4)\n",
        "  result2 = even_or_odd(7)\n",
        "\n",
        "  print(\"Result 1:\", result1)\n",
        "  print(\"Result 2:\", result2)\n",
        "  ```\n",
        "\n",
        "  Verify that the function returns the expected results."
      ]
    },
    {
      "cell_type": "markdown",
      "metadata": {
        "id": "-CgvYBxdtj4M"
      },
      "source": [
        "# TODO-3"
      ]
    },
    {
      "cell_type": "code",
      "execution_count": null,
      "metadata": {
        "id": "MTcrIYdMtj4M"
      },
      "outputs": [],
      "source": [
        "# Code your solution to Exrercise 3 here"
      ]
    },
    {
      "cell_type": "markdown",
      "metadata": {
        "id": "UJYKhHfMtj4N"
      },
      "source": [
        "<details>\n",
        "<summary>Click to reveal the solution to Exercise 3</summary>\n",
        "    \n",
        "```python\n",
        "def even_or_odd(number):\n",
        "    if number % 2 == 0:\n",
        "        return \"Even\"\n",
        "    else:\n",
        "        return \"Odd\"\n",
        "\n",
        "result1 = even_or_odd(4)\n",
        "result2 = even_or_odd(7)\n",
        "\n",
        "print(\"Result 1:\", result1)\n",
        "print(\"Result 2:\", result2)\n",
        "```"
      ]
    },
    {
      "cell_type": "markdown",
      "metadata": {
        "id": "HxqT5XWNtj4N"
      },
      "source": [
        "### **Exercise 4: Recursive Function**\n",
        "\n",
        "In this exercise, we'll create a recursive function to calculate the factorial of a number. This exercise will help you understand recursion and how a function can call itself.\n",
        "\n",
        "* **Function Definition**\n",
        "\n",
        "  Start by defining a function called `factorial` that takes a single parameter, `n`.\n",
        "\n",
        "  ```python\n",
        "  def factorial(n):\n",
        "      # Your code goes here\n",
        "  ```\n",
        "\n",
        "* **Recursive Logic**\n",
        "\n",
        "  Inside the function, use recursion to calculate the factorial of `n`. You can use a conditional statement to define the base case. If `n` is 0, return 1; otherwise, return `n` multiplied by the factorial of `n-1`.\n",
        "\n",
        "  ```python\n",
        "  def factorial(n):\n",
        "      if n == 0:\n",
        "          return 1\n",
        "      else:\n",
        "          return n * factorial(n - 1)\n",
        "  ```"
      ]
    },
    {
      "cell_type": "markdown",
      "metadata": {
        "id": "XG6rcX-ktj4N"
      },
      "source": [
        "* **Calling the Function**\n",
        "\n",
        "  After defining the function, call it with different values of `n` to calculate their factorials.\n",
        "\n",
        "  ```python\n",
        "  fact_5 = factorial(5)\n",
        "  fact_7 = factorial(7)\n",
        "\n",
        "  print(\"Factorial of 5:\", fact_5)\n",
        "  print(\"Factorial of 7:\", fact_7)\n",
        "  ```\n",
        "\n",
        "  Verify that the function correctly calculates the factorials."
      ]
    },
    {
      "cell_type": "markdown",
      "metadata": {
        "id": "po6Y7EPAtj4N"
      },
      "source": [
        "# TODO-4"
      ]
    },
    {
      "cell_type": "code",
      "execution_count": null,
      "metadata": {
        "id": "BnzW2gZLtj4N"
      },
      "outputs": [],
      "source": [
        "# Code your solution to Exrercise 4 here"
      ]
    },
    {
      "cell_type": "markdown",
      "metadata": {
        "id": "r74loQ-utj4N"
      },
      "source": [
        "<details>\n",
        "<summary>Click to reveal the solution to Exercise 4</summary>\n",
        "    \n",
        "```python\n",
        "def factorial(n):\n",
        "    if n == 0:\n",
        "        return 1\n",
        "    else:\n",
        "        return n * factorial(n - 1)\n",
        "\n",
        "fact_5 = factorial(5)\n",
        "fact_7 = factorial(7)\n",
        "\n",
        "print(\"Factorial of 5:\", fact_5)\n",
        "print(\"Factorial of 7:\", fact_7)\n",
        "```"
      ]
    },
    {
      "cell_type": "markdown",
      "metadata": {
        "id": "NFaLYugutj4N"
      },
      "source": [
        "### **Exercise 5: Applying Functions to Real-World Problems**\n",
        "\n",
        "In this exercise, we'll apply what we've learned about functions to real-world problems. We'll work on two tasks that involve creating functions to solve practical problems.\n",
        "\n",
        "* **Task 5-1: Calculate Area of a Triangle**\n",
        "\n",
        "  - Define a function called `triangle_area` that takes the base and height of a triangle as parameters and returns the calculated area.\n",
        "  - Call the function with different values to calculate and display the area of different triangles."
      ]
    },
    {
      "cell_type": "markdown",
      "metadata": {
        "id": "ydW7fhoPtj4N"
      },
      "source": [
        "# TODO-5"
      ]
    },
    {
      "cell_type": "code",
      "execution_count": null,
      "metadata": {
        "id": "nSQDA4qJtj4N"
      },
      "outputs": [],
      "source": [
        "# Code your solution to Exrercise 5-1 here"
      ]
    },
    {
      "cell_type": "markdown",
      "metadata": {
        "id": "YLJ7WI_ztj4O"
      },
      "source": [
        "* **Task 5-2: Convert Fahrenheit to Celsius**\n",
        "\n",
        "  - Create a function called `fahrenheit_to_celsius` that takes a temperature in Fahrenheit as a parameter and returns the equivalent temperature in Celsius.\n",
        "  - Call the function with different Fahrenheit values to calculate and display their Celsius equivalents."
      ]
    },
    {
      "cell_type": "markdown",
      "metadata": {
        "id": "YHye2kHktj4O"
      },
      "source": [
        "# TODO-6"
      ]
    },
    {
      "cell_type": "code",
      "execution_count": null,
      "metadata": {
        "id": "dEYthMZGtj4O"
      },
      "outputs": [],
      "source": [
        "# Code your solution to Exrercise 5-2 here"
      ]
    },
    {
      "cell_type": "markdown",
      "metadata": {
        "id": "FT_288jZtj4O"
      },
      "source": [
        "## **Problems**\n",
        "\n",
        "**Very Easy:**\n",
        "\n",
        "1. **Problem 1: Function Naming**\n",
        "   \n",
        "   **Statement:** Rename the function `x()` to something more descriptive that indicates its purpose. You can suppose any suitable purpose to rename it appropriately.\n",
        "\n",
        "   **Example:**\n",
        "   \n",
        "   Original function:\n",
        "   ```python\n",
        "   def x():\n",
        "       # Function logic here\n",
        "   ```\n",
        "\n",
        "2. **Problem 2: Commenting**\n",
        "\n",
        "   **Statement:** Add a docstring to the function below to explain its purpose, parameters, and return value.\n",
        "\n",
        "   **Example:**\n",
        "   \n",
        "   Original function:\n",
        "   ```python\n",
        "   def calculate_total(a, b):\n",
        "       return a + b\n",
        "   ```"
      ]
    },
    {
      "cell_type": "markdown",
      "metadata": {
        "id": "p7soVr1jtj4O"
      },
      "source": [
        "# TODO-7"
      ]
    },
    {
      "cell_type": "code",
      "execution_count": null,
      "metadata": {
        "id": "dIHYZAT5tj4O"
      },
      "outputs": [],
      "source": [
        "# Code your solution to Problem 1 here"
      ]
    },
    {
      "cell_type": "markdown",
      "metadata": {
        "id": "E5BcW00mtj4O"
      },
      "source": [
        "# TODO-8"
      ]
    },
    {
      "cell_type": "code",
      "execution_count": null,
      "metadata": {
        "id": "HfyxVYj7tj4O"
      },
      "outputs": [],
      "source": [
        "# Code your solution to Problem 2 here"
      ]
    },
    {
      "cell_type": "markdown",
      "metadata": {
        "id": "MN5kwh4Ttj4O"
      },
      "source": [
        "**Easy:**\n",
        "\n",
        "3. **Problem 3: Calculate Factorial**\n",
        "\n",
        "   **Statement:** Create a function called `factorial` that takes an integer as input and returns its factorial. Use loop (not recursion) for this task.\n",
        "\n",
        "   **Example:**\n",
        "\n",
        "   ```python\n",
        "   def factorial(n):\n",
        "       # Your code here\n",
        "   ```\n"
      ]
    },
    {
      "cell_type": "markdown",
      "metadata": {
        "id": "hw4FqWa6tj4P"
      },
      "source": [
        "# TODO-9"
      ]
    },
    {
      "cell_type": "code",
      "execution_count": null,
      "metadata": {
        "id": "raK7hh9rtj4P"
      },
      "outputs": [],
      "source": [
        "# Code your solution to Problem 3 here"
      ]
    },
    {
      "cell_type": "markdown",
      "metadata": {
        "id": "1bFE20qttj4P"
      },
      "source": [
        "**Medium:**\n",
        "\n",
        "4. **Problem 4: Celsius to Fahrenheit Conversion**\n",
        "\n",
        "   **Statement:** Write a function called `celsius_to_fahrenheit` that converts a temperature in Celsius to Fahrenheit. Use the formula `F = (C * 9/5) + 32`.\n",
        "\n",
        "   **Example:**\n",
        "\n",
        "   ```python\n",
        "   def celsius_to_fahrenheit(celsius):\n",
        "       # Your code here\n",
        "   ```\n",
        "\n",
        "   Hint: Use the provided formula to calculate the conversion.\n",
        "\n",
        "5. **Problem 5: Calculate Triangle Area**\n",
        "\n",
        "   **Statement:** Create a function called `triangle_area` that calculates the area of a triangle. It should take the base and height as input parameters. Use the formula `Area = (1/2) * base * height`.\n",
        "\n",
        "   **Example:**\n",
        "\n",
        "   ```python\n",
        "   def triangle_area(base, height):\n",
        "       # Your code here\n",
        "   ```\n",
        "\n",
        "   Hint: Apply the given formula to calculate the area of the triangle."
      ]
    },
    {
      "cell_type": "markdown",
      "metadata": {
        "id": "numj4FGPtj4P"
      },
      "source": [
        "# TODO-10"
      ]
    },
    {
      "cell_type": "code",
      "execution_count": null,
      "metadata": {
        "id": "GlIkv1Kltj4P"
      },
      "outputs": [],
      "source": [
        "# Code your solution to Problem 4 here"
      ]
    },
    {
      "cell_type": "markdown",
      "metadata": {
        "id": "5IQfvKLRtj4P"
      },
      "source": [
        "# TODO-11"
      ]
    },
    {
      "cell_type": "code",
      "execution_count": null,
      "metadata": {
        "id": "eCKPV8t6tj4P"
      },
      "outputs": [],
      "source": [
        "# Code your solution to Problem 5 here"
      ]
    },
    {
      "cell_type": "markdown",
      "metadata": {
        "id": "s6rnWAQstj4P"
      },
      "source": [
        "**Difficult:**\n",
        "\n",
        "6. **Problem 6: Recursive Fibonacci**\n",
        "\n",
        "   **Statement:** Write a function to calculate the nth Fibonacci number using recursion. The Fibonacci sequence starts with 0 and 1, and each subsequent number is the sum of the two previous numbers (e.g., 0, 1, 1, 2, 3, 5, ...).\n",
        "\n",
        "   **Example:**\n",
        "\n",
        "   ```python\n",
        "   def fibonacci(n):\n",
        "       # Your code here\n",
        "   ```\n",
        "\n",
        "   Hint: You can use a recursive approach, but remember to define the base cases for 0 and 1."
      ]
    },
    {
      "cell_type": "markdown",
      "metadata": {
        "id": "LXKCIWQAtj4P"
      },
      "source": [
        "# TODO-12"
      ]
    },
    {
      "cell_type": "code",
      "execution_count": null,
      "metadata": {
        "id": "oKviIjjVtj4Q"
      },
      "outputs": [],
      "source": [
        "# Code your solution to Problem 6 here"
      ]
    },
    {
      "cell_type": "markdown",
      "metadata": {
        "id": "lrakZZ3stj4Q"
      },
      "source": [
        "## Lambda Expressions"
      ]
    },
    {
      "cell_type": "markdown",
      "metadata": {
        "id": "2eZxwOl1tj4Q"
      },
      "source": [
        "**1. What is a lambda expression?**\n",
        "\n",
        "A lambda expression, also known as a lambda function, is an **anonymous and lightweight function** in programming. It allows you to define small, unnamed functions **on the fly**, often for a specific task or operation. Lambdas are commonly used in functional programming and in languages that support higher-order functions, like Python, to simplify the creation of small, single-use functions.\n",
        "\n",
        "**2. Why lambda expression?**\n",
        "\n",
        "Lambda expressions offer several advantages:\n",
        "- **Conciseness:** Lambdas are more concise than traditional named functions, making your code cleaner and easier to read.\n",
        "- **Simplicity:** They are ideal for defining functions that are only used in a single context.\n",
        "- **Functional programming:** Lambdas support functional programming principles by treating functions as first-class citizens, enabling operations like mapping, filtering, and reducing."
      ]
    },
    {
      "cell_type": "markdown",
      "metadata": {
        "id": "4kfENPx_tj4Q"
      },
      "source": [
        "**3. Basic Syntax and Structure:**\n",
        "\n",
        "The basic structure of a lambda expression varies by programming language. In Python, the syntax is as follows:\n",
        "\n",
        "```python\n",
        "lambda arguments: expression\n",
        "```\n",
        "\n",
        "- `lambda` is the keyword to declare a lambda expression.\n",
        "- `arguments` are the input parameters, which can be zero or more.\n",
        "- `expression` is the operation or calculation to be performed using the input arguments.\n",
        "\n",
        "Here's an example of a simple lambda function that adds two numbers:\n",
        "\n",
        "```python\n",
        "add = lambda x, y: x + y\n",
        "result = add(3, 5)  # Result: 8\n",
        "```"
      ]
    },
    {
      "cell_type": "code",
      "execution_count": null,
      "metadata": {
        "id": "YUNDlTbGtj4Q",
        "outputId": "d2b5e930-01a6-4ab9-de99-3e81d6492520"
      },
      "outputs": [
        {
          "name": "stdout",
          "output_type": "stream",
          "text": [
            "8\n",
            "8\n"
          ]
        }
      ],
      "source": [
        "add = lambda x, y: x + y\n",
        "result = add(3, 5)  # Result: 8\n",
        "print(result)\n",
        "\n",
        "def add(x, y):\n",
        "    return x + y\n",
        "result = add(3, 5)  # Result: 8\n",
        "print(result)"
      ]
    },
    {
      "cell_type": "markdown",
      "metadata": {
        "id": "pp339PC1tj4Q"
      },
      "source": [
        "**4. Variations and Examples:**\n",
        "\n",
        "Lambda expressions can be used for various purposes. Here are some examples:\n",
        "\n",
        "- **Sorting a list of tuples by the second element:**\n",
        "\n",
        "```python\n",
        "data = [(1, 5), (3, 2), (2, 8)]\n",
        "sorted_data = sorted(data, key=lambda x: x[1])\n",
        "# Result: [(3, 2), (1, 5), (2, 8)]\n",
        "```\n",
        "\n",
        "- **Filtering a list to select even numbers:**\n",
        "\n",
        "```python\n",
        "numbers = [1, 2, 3, 4, 5, 6]\n",
        "even_numbers = list(filter(lambda x: x % 2 == 0, numbers))\n",
        "# Result: [2, 4, 6]\n",
        "```"
      ]
    },
    {
      "cell_type": "code",
      "execution_count": null,
      "metadata": {
        "id": "VbduU4sXtj4Q",
        "outputId": "4a14ee5a-4eca-4c56-8567-135aaa34dc82"
      },
      "outputs": [
        {
          "name": "stdout",
          "output_type": "stream",
          "text": [
            "[(3, 2), (1, 5), (2, 8)]\n",
            "......................\n",
            "[2, 4, 6]\n"
          ]
        }
      ],
      "source": [
        "data = [(1, 5), (3, 2), (2, 8)]\n",
        "sorted_data = sorted(data, key=lambda x: x[1])\n",
        "print(sorted_data)\n",
        "print(\"......................\")\n",
        "numbers = [1, 2, 3, 4, 5, 6]\n",
        "even_numbers = list(filter(lambda x: x % 2 == 0, numbers))\n",
        "print(even_numbers)"
      ]
    },
    {
      "cell_type": "markdown",
      "metadata": {
        "id": "xsZP3G8Itj4R"
      },
      "source": [
        "**5. Lambda Expression vs. Traditional Approaches:**\n",
        "\n",
        "Lambda expressions are often preferred for their simplicity and conciseness, but there are situations where traditional named functions may be more appropriate.\n",
        "\n",
        "- **Lambda Expression:**\n",
        "  - Ideal for simple, single-use functions.\n",
        "  - Reduces the need for defining and naming separate functions.\n",
        "  - Well-suited for functional programming constructs like `map`, `filter`, and `reduce`.\n",
        "  \n",
        "- **Traditional Named Functions:**\n",
        "  - Better for complex functions or those used in multiple contexts.\n",
        "  - Provide better code organization and reusability.\n",
        "  - Easier to debug and test due to clear names and structure.\n",
        "\n",
        "In summary, lambda expressions are a valuable tool for creating small, anonymous functions in programming, offering simplicity and conciseness for specific tasks. They are particularly useful in functional programming and for simplifying operations like sorting, filtering, and mapping data. However, the choice between lambda expressions and traditional named functions depends on the complexity and reusability of the function in question."
      ]
    },
    {
      "cell_type": "code",
      "execution_count": null,
      "metadata": {
        "id": "Wz1TxCGutj4R"
      },
      "outputs": [],
      "source": []
    }
  ],
  "metadata": {
    "kernelspec": {
      "display_name": "Python 3",
      "language": "python",
      "name": "python3"
    },
    "language_info": {
      "codemirror_mode": {
        "name": "ipython",
        "version": 3
      },
      "file_extension": ".py",
      "mimetype": "text/x-python",
      "name": "python",
      "nbconvert_exporter": "python",
      "pygments_lexer": "ipython3",
      "version": "3.6.5"
    },
    "colab": {
      "provenance": [],
      "include_colab_link": true
    }
  },
  "nbformat": 4,
  "nbformat_minor": 0
}